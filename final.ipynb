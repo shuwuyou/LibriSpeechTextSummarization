{
 "cells": [
  {
   "cell_type": "code",
   "execution_count": 7,
   "metadata": {},
   "outputs": [
    {
     "name": "stdout",
     "output_type": "stream",
     "text": [
      "Selected 100 random clips out of 2703 total\n"
     ]
    }
   ],
   "source": [
    "#!/usr/bin/env python3\n",
    "# ---------------------------------------------------------------\n",
    "#  devclean_transcribe_sample.py   –  100-clip demo run\n",
    "# ---------------------------------------------------------------\n",
    "import random, re, pathlib\n",
    "import whisper, torch, soundfile as sf, pandas as pd\n",
    "from tqdm.auto import tqdm\n",
    "\n",
    "# ----------------------- CONFIG --------------------------------\n",
    "ROOT_DIR      = pathlib.Path(\n",
    "    r\"C:/Users/shuwu/OneDrive/Desktop/MLDS/text_analytics/LibriSpeech/dev-clean\"\n",
    ")\n",
    "WHISPER_MODEL = \"small\"\n",
    "DEVICE        = \"cuda\" if torch.cuda.is_available() else \"cpu\"\n",
    "FP16          = (DEVICE == \"cuda\")\n",
    "SAMPLE_SIZE   = 100                        # ← change here for more / fewer clips\n",
    "OUT_FILE      = f\"devclean_transcripts_{SAMPLE_SIZE}.parquet\"\n",
    "# ---------------------------------------------------------------\n",
    "\n",
    "flacs = sorted(ROOT_DIR.rglob(\"*.flac\"))\n",
    "if not flacs:\n",
    "    raise SystemExit(\"No FLAC files found – check ROOT_DIR\")\n",
    "\n",
    "random.seed(42)\n",
    "flac_subset = random.sample(flacs, k=min(SAMPLE_SIZE, len(flacs)))\n",
    "print(f\"Selected {len(flac_subset)} random clips out of {len(flacs)} total\")\n"
   ]
  },
  {
   "cell_type": "code",
   "execution_count": 8,
   "metadata": {},
   "outputs": [
    {
     "name": "stderr",
     "output_type": "stream",
     "text": [
      "100%|██████████| 100/100 [01:25<00:00,  1.17file/s]"
     ]
    },
    {
     "name": "stdout",
     "output_type": "stream",
     "text": [
      "✓ Saved 100 rows to devclean_transcripts_100.parquet\n"
     ]
    },
    {
     "name": "stderr",
     "output_type": "stream",
     "text": [
      "\n"
     ]
    }
   ],
   "source": [
    "asr = whisper.load_model(WHISPER_MODEL, device=DEVICE, in_memory=False)\n",
    "\n",
    "def parse_ids(p: pathlib.Path):\n",
    "    spk, chap, utt = re.match(r\"(\\d+)-(\\d+)-(\\d+)\\.flac\", p.name).groups()\n",
    "    return int(spk), int(chap), int(utt)\n",
    "\n",
    "def duration(path: str) -> float:\n",
    "    info = sf.info(path)\n",
    "    return info.frames / info.samplerate\n",
    "\n",
    "records = []\n",
    "for wav in tqdm(flac_subset, unit=\"file\"):\n",
    "    txt = asr.transcribe(str(wav), fp16=FP16)[\"text\"].strip()\n",
    "    spk, chap, utt = parse_ids(wav)\n",
    "    records.append({\n",
    "        \"file\":    str(wav),\n",
    "        \"speaker\": spk,\n",
    "        \"chapter\": chap,\n",
    "        \"utt_id\":  utt,\n",
    "        \"seconds\": duration(str(wav)),\n",
    "        \"text\":    txt,\n",
    "    })\n",
    "\n",
    "pd.DataFrame(records).to_parquet(OUT_FILE, index=False)\n",
    "print(f\"✓ Saved {len(records)} rows to {OUT_FILE}\")\n"
   ]
  },
  {
   "cell_type": "code",
   "execution_count": 10,
   "metadata": {},
   "outputs": [
    {
     "name": "stdout",
     "output_type": "stream",
     "text": [
      "(100, 6)\n"
     ]
    },
    {
     "data": {
      "text/html": [
       "<div>\n",
       "<style scoped>\n",
       "    .dataframe tbody tr th:only-of-type {\n",
       "        vertical-align: middle;\n",
       "    }\n",
       "\n",
       "    .dataframe tbody tr th {\n",
       "        vertical-align: top;\n",
       "    }\n",
       "\n",
       "    .dataframe thead th {\n",
       "        text-align: right;\n",
       "    }\n",
       "</style>\n",
       "<table border=\"1\" class=\"dataframe\">\n",
       "  <thead>\n",
       "    <tr style=\"text-align: right;\">\n",
       "      <th></th>\n",
       "      <th>file</th>\n",
       "      <th>speaker</th>\n",
       "      <th>chapter</th>\n",
       "      <th>utt_id</th>\n",
       "      <th>seconds</th>\n",
       "      <th>text</th>\n",
       "    </tr>\n",
       "  </thead>\n",
       "  <tbody>\n",
       "    <tr>\n",
       "      <th>0</th>\n",
       "      <td>C:\\Users\\shuwu\\OneDrive\\Desktop\\MLDS\\text_anal...</td>\n",
       "      <td>84</td>\n",
       "      <td>121550</td>\n",
       "      <td>7</td>\n",
       "      <td>9.525</td>\n",
       "      <td>By his default, short while he sojourned here....</td>\n",
       "    </tr>\n",
       "    <tr>\n",
       "      <th>1</th>\n",
       "      <td>C:\\Users\\shuwu\\OneDrive\\Desktop\\MLDS\\text_anal...</td>\n",
       "      <td>1993</td>\n",
       "      <td>147965</td>\n",
       "      <td>7</td>\n",
       "      <td>7.570</td>\n",
       "      <td>His face had a look of weariness and pleasure,...</td>\n",
       "    </tr>\n",
       "    <tr>\n",
       "      <th>2</th>\n",
       "      <td>C:\\Users\\shuwu\\OneDrive\\Desktop\\MLDS\\text_anal...</td>\n",
       "      <td>1462</td>\n",
       "      <td>170142</td>\n",
       "      <td>1</td>\n",
       "      <td>9.585</td>\n",
       "      <td>Emerging at Houston at half past three o'clock...</td>\n",
       "    </tr>\n",
       "    <tr>\n",
       "      <th>3</th>\n",
       "      <td>C:\\Users\\shuwu\\OneDrive\\Desktop\\MLDS\\text_anal...</td>\n",
       "      <td>3081</td>\n",
       "      <td>166546</td>\n",
       "      <td>20</td>\n",
       "      <td>5.340</td>\n",
       "      <td>He wants me to stand ready to obey any summons...</td>\n",
       "    </tr>\n",
       "    <tr>\n",
       "      <th>4</th>\n",
       "      <td>C:\\Users\\shuwu\\OneDrive\\Desktop\\MLDS\\text_anal...</td>\n",
       "      <td>2803</td>\n",
       "      <td>161169</td>\n",
       "      <td>0</td>\n",
       "      <td>11.700</td>\n",
       "      <td>Once, there was a father who thought he would ...</td>\n",
       "    </tr>\n",
       "  </tbody>\n",
       "</table>\n",
       "</div>"
      ],
      "text/plain": [
       "                                                file  speaker  chapter  \\\n",
       "0  C:\\Users\\shuwu\\OneDrive\\Desktop\\MLDS\\text_anal...       84   121550   \n",
       "1  C:\\Users\\shuwu\\OneDrive\\Desktop\\MLDS\\text_anal...     1993   147965   \n",
       "2  C:\\Users\\shuwu\\OneDrive\\Desktop\\MLDS\\text_anal...     1462   170142   \n",
       "3  C:\\Users\\shuwu\\OneDrive\\Desktop\\MLDS\\text_anal...     3081   166546   \n",
       "4  C:\\Users\\shuwu\\OneDrive\\Desktop\\MLDS\\text_anal...     2803   161169   \n",
       "\n",
       "   utt_id  seconds                                               text  \n",
       "0       7    9.525  By his default, short while he sojourned here....  \n",
       "1       7    7.570  His face had a look of weariness and pleasure,...  \n",
       "2       1    9.585  Emerging at Houston at half past three o'clock...  \n",
       "3      20    5.340  He wants me to stand ready to obey any summons...  \n",
       "4       0   11.700  Once, there was a father who thought he would ...  "
      ]
     },
     "execution_count": 10,
     "metadata": {},
     "output_type": "execute_result"
    }
   ],
   "source": [
    "import pandas as pd\n",
    "\n",
    "# Path to the file you just created\n",
    "df = pd.read_parquet(\"devclean_transcripts_100.parquet\")   # <- adjust name/path if different\n",
    "\n",
    "print(df.shape)        # rows, columns\n",
    "df.head()       # first 5 rows\n"
   ]
  },
  {
   "cell_type": "code",
   "execution_count": null,
   "metadata": {},
   "outputs": [],
   "source": []
  },
  {
   "cell_type": "code",
   "execution_count": null,
   "metadata": {},
   "outputs": [],
   "source": []
  },
  {
   "cell_type": "code",
   "execution_count": null,
   "metadata": {},
   "outputs": [],
   "source": []
  }
 ],
 "metadata": {
  "kernelspec": {
   "display_name": "deeplearning",
   "language": "python",
   "name": "python3"
  },
  "language_info": {
   "codemirror_mode": {
    "name": "ipython",
    "version": 3
   },
   "file_extension": ".py",
   "mimetype": "text/x-python",
   "name": "python",
   "nbconvert_exporter": "python",
   "pygments_lexer": "ipython3",
   "version": "3.9.21"
  }
 },
 "nbformat": 4,
 "nbformat_minor": 2
}
